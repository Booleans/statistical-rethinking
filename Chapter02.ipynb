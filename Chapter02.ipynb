{
 "cells": [
  {
   "cell_type": "markdown",
   "metadata": {},
   "source": [
    "# Chapter 02. Small Worlds and Large Worlds\n",
    "\n",
    "#### Chapter Code"
   ]
  },
  {
   "cell_type": "code",
   "execution_count": 41,
   "metadata": {},
   "outputs": [],
   "source": [
    "import numpy as np\n",
    "np.set_printoptions(suppress=True)\n",
    "from scipy import stats\n",
    "\n",
    "import matplotlib.pyplot as plt\n",
    "import seaborn as sns\n",
    "%matplotlib inline"
   ]
  },
  {
   "cell_type": "markdown",
   "metadata": {},
   "source": [
    "**Code 2.1**"
   ]
  },
  {
   "cell_type": "code",
   "execution_count": 19,
   "metadata": {},
   "outputs": [
    {
     "data": {
      "text/plain": [
       "array([0.  , 0.15, 0.4 , 0.45, 0.  ])"
      ]
     },
     "execution_count": 19,
     "metadata": {},
     "output_type": "execute_result"
    }
   ],
   "source": [
    "ways = np.array([0, 3, 8, 9, 0])\n",
    "ways/sum(ways)"
   ]
  },
  {
   "cell_type": "markdown",
   "metadata": {},
   "source": [
    "**Code 2.2**"
   ]
  },
  {
   "cell_type": "code",
   "execution_count": 20,
   "metadata": {},
   "outputs": [
    {
     "data": {
      "text/plain": [
       "0.16406250000000006"
      ]
     },
     "execution_count": 20,
     "metadata": {},
     "output_type": "execute_result"
    }
   ],
   "source": [
    "stats.binom.pmf(k=6, n=9, p=0.5)"
   ]
  },
  {
   "cell_type": "markdown",
   "metadata": {},
   "source": [
    "That number is the relative number of ways to get 6 water (in our globe-tossing model) holding p at 0.5.\n",
    "\n",
    "Much later in the book, in Chapter 10, we’ll see that the binomial distribution is rather special, because it represents the maximum entropy way to count binary events. “Maximum entropy” means that the distribution contains no additional information other than: There are two events, and the probabilities of each in each trial are p and 1 − p. Chapter 10 explains this in more detail, and the details can certainly wait."
   ]
  },
  {
   "cell_type": "markdown",
   "metadata": {},
   "source": [
    "**Code 2.3** Grid Approximation\n",
    "\n",
    "1. Define the grid. This means you decide how many points to use in estimating the posterior, and then you make a list of the parameter values on the grid.\n",
    "\n",
    "2. Compute the value of the prior at each parameter value on the grid.\n",
    "\n",
    "3. Compute the likelihood at each parameter value.\n",
    "\n",
    "4. Compute the unstandardized posterior at each parameter value by multiplying the prior by the likelihood.\n",
    "\n",
    "5. Finally, standardize the posterior by dividing the values by the sum of all values."
   ]
  },
  {
   "cell_type": "code",
   "execution_count": 39,
   "metadata": {},
   "outputs": [],
   "source": [
    "def grid_approximation(n_success, n_trials, n_points):\n",
    "    # Define the grid.\n",
    "    p_grid = np.linspace(0, 1, n_points)\n",
    "    \n",
    "    # Define the prior.\n",
    "    # For a uniform prior.\n",
    "    prior = np.repeat(1, n_points)\n",
    "    \n",
    "    # Compute the likelihood at each parameter value.\n",
    "    likelihood = stats.binom.pmf(n_success, n_trials, p_grid)\n",
    "    \n",
    "    # Compute the unstandardized posterior at each parameter value.\n",
    "    posterior_unstd = likelihood * prior\n",
    "    \n",
    "    # Standardize the posterior.\n",
    "    posterior_std = posterior_unstd / np.sum(posterior_unstd)\n",
    "    \n",
    "    # We want both the grid and posterior for plotting.\n",
    "    return p_grid, posterior_std"
   ]
  },
  {
   "cell_type": "code",
   "execution_count": 42,
   "metadata": {},
   "outputs": [
    {
     "data": {
      "text/plain": [
       "(array([0.        , 0.05263158, 0.10526316, 0.15789474, 0.21052632,\n",
       "        0.26315789, 0.31578947, 0.36842105, 0.42105263, 0.47368421,\n",
       "        0.52631579, 0.57894737, 0.63157895, 0.68421053, 0.73684211,\n",
       "        0.78947368, 0.84210526, 0.89473684, 0.94736842, 1.        ]),\n",
       " array([0.        , 0.0000008 , 0.00004308, 0.00040908, 0.00189389,\n",
       "        0.00587387, 0.01404294, 0.02785174, 0.04780115, 0.07280739,\n",
       "        0.09987296, 0.12426433, 0.14031432, 0.14283488, 0.12894326,\n",
       "        0.09987296, 0.0620589 , 0.02645477, 0.00465967, 0.        ]))"
      ]
     },
     "execution_count": 42,
     "metadata": {},
     "output_type": "execute_result"
    }
   ],
   "source": [
    "p_grid, posterior = grid_approximation(n_success=6, n_trials=9, n_points=20)\n",
    "p_grid, posterior"
   ]
  },
  {
   "cell_type": "markdown",
   "metadata": {},
   "source": [
    "#### End Chapter Problems"
   ]
  },
  {
   "cell_type": "markdown",
   "metadata": {},
   "source": [
    "**2H1.** Suppose there are two species of panda bear. Both are equally common in the wild and live in the same places. They look exactly alike and eat the same food, and there is yet no genetic assay capable of telling them apart. They differ however in their family sizes. Species A gives birth to twins 10% of the time, otherwise birthing a single infant. Species B births twins 20% of the time, otherwise birthing singleton infants. Assume these numbers are known with certainty, from many years of field research.\n",
    "\n",
    "Now suppose you are managing a captive panda breeding program. You have a new female panda of unknown species, and she has just given birth to twins. What is the probability that her next birth will also be twins?"
   ]
  },
  {
   "cell_type": "code",
   "execution_count": 1,
   "metadata": {},
   "outputs": [
    {
     "name": "stdout",
     "output_type": "stream",
     "text": [
      "If a panda's first birth is twins, the second birth is twins 16.66% of the time.\n"
     ]
    }
   ],
   "source": [
    "import random\n",
    "import pandas as pd # I'm joking\n",
    "pandas = ('A', 'B')\n",
    "p_twins = {'A':.10, 'B':.20}\n",
    "n_twins = 0\n",
    "n_success = 0\n",
    "n_sims = 10**6\n",
    "\n",
    "while n_twins < n_sims:\n",
    "    panda = random.choice(pandas)\n",
    "    if random.random() <= p_twins[panda]:\n",
    "        n_twins += 1\n",
    "        if random.random() <= p_twins[panda]:\n",
    "            n_success += 1\n",
    "            \n",
    "percentage = round((n_success/n_twins)*100, 2)\n",
    "print(f'If a panda\\'s first birth is twins, the second birth is twins {percentage}% of the time.')"
   ]
  },
  {
   "cell_type": "markdown",
   "metadata": {},
   "source": [
    "**2H2.** Recall all the facts from the problem above. Now compute the probability that the panda we have is from species A, assuming we have observed only the first birth and that it was twins."
   ]
  },
  {
   "cell_type": "code",
   "execution_count": 2,
   "metadata": {},
   "outputs": [
    {
     "data": {
      "text/plain": [
       "0.33332"
      ]
     },
     "execution_count": 2,
     "metadata": {},
     "output_type": "execute_result"
    }
   ],
   "source": [
    "panda_counts = {panda:0 for panda in pandas}\n",
    "n_twins = 0\n",
    "\n",
    "while n_twins < n_sims:\n",
    "    panda = random.choice(pandas)\n",
    "    if random.random() <= p_twins[panda]:\n",
    "        n_twins += 1\n",
    "        panda_counts[panda] += 1\n",
    "        \n",
    "panda_counts['A']/n_sims"
   ]
  },
  {
   "cell_type": "markdown",
   "metadata": {},
   "source": [
    "**2H3.** Continuing on from the previous problem, suppose the same panda mother has a second birth and that it is not twins, but a singleton infant. Compute the posterior probability that this panda is species A."
   ]
  },
  {
   "cell_type": "code",
   "execution_count": 3,
   "metadata": {},
   "outputs": [
    {
     "data": {
      "text/plain": [
       "0.360802"
      ]
     },
     "execution_count": 3,
     "metadata": {},
     "output_type": "execute_result"
    }
   ],
   "source": [
    "n_twins = 0\n",
    "n_success = 0\n",
    "n_sims = 10**6\n",
    "\n",
    "panda_counts = {panda:0 for panda in pandas}\n",
    "\n",
    "while n_success < n_sims:\n",
    "    panda = random.choice(pandas)\n",
    "    if random.random() <= p_twins[panda]:\n",
    "        if random.random() > p_twins[panda]:\n",
    "            # Success is defined as having twins followed by a single infant. \n",
    "            n_success += 1\n",
    "            panda_counts[panda] += 1\n",
    "            \n",
    "panda_counts['A']/n_sims"
   ]
  },
  {
   "cell_type": "code",
   "execution_count": null,
   "metadata": {},
   "outputs": [],
   "source": []
  }
 ],
 "metadata": {
  "kernelspec": {
   "display_name": "Python 3",
   "language": "python",
   "name": "python3"
  },
  "language_info": {
   "codemirror_mode": {
    "name": "ipython",
    "version": 3
   },
   "file_extension": ".py",
   "mimetype": "text/x-python",
   "name": "python",
   "nbconvert_exporter": "python",
   "pygments_lexer": "ipython3",
   "version": "3.6.8"
  }
 },
 "nbformat": 4,
 "nbformat_minor": 2
}
